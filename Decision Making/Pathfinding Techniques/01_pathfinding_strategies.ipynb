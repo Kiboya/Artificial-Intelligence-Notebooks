{
 "cells": [
  {
   "cell_type": "markdown",
   "metadata": {},
   "source": [
    "# Pathfinding strategies"
   ]
  },
  {
   "cell_type": "markdown",
   "metadata": {},
   "source": [
    "Pathfinding is a fundamental aspect of artificial intelligence that focuses on finding the optimal route between two points. It's essential in various fields such as robotics, gaming, and logistics. Effective pathfinding algorithms enable agents to navigate through environments efficiently, avoiding obstacles and minimizing travel cost or time."
   ]
  },
  {
   "cell_type": "markdown",
   "metadata": {},
   "source": [
    "## Environment Setup"
   ]
  },
  {
   "cell_type": "markdown",
   "metadata": {},
   "source": [
    "In this notebook, we'll explore different pathfinding algorithms within a grid-based environment:\n",
    "\n",
    "- **Grid Dimensions**: The environment is a two-dimensional grid with a specified length `L` and height `H`.\n",
    "- **Tiles**: Each cell in the grid represents a tile, which can be either:\n",
    "    - **Empty**: The agent can move through these tiles.\n",
    "    - **Wall**: These are obstacles that the agent cannot pass through.\n",
    "- **Boundaries**: The outermost rows and columns (first and last of both) are walls, forming the boundaries of the environment.\n",
    "- **Start Position**: The agent begins at the top-left corner, coordinate `(1, 1)`.\n",
    "- **Goal Position**: The target is the bottom-right corner, coordinate `(L - 2, H - 2)`.\n",
    "- **Movement Rules**: The agent can move horizontally or vertically to adjacent tiles (no diagonal movement).\n",
    "\n",
    "Our goal is to implement and compare various pathfinding algorithms to find the shortest path from the start to the goal while navigating around walls.\n",
    "\n",
    "Note: In the environment setup code, a \"cost\" is mentioned. For now, we don't need to worry about the cost of moving between tiles. This concept will be introduced later in the notebook.\n",
    "\n",
    "Here is the code to set up the environment:"
   ]
  },
  {
   "cell_type": "code",
   "execution_count": 1,
   "metadata": {},
   "outputs": [],
   "source": [
    "import random\n",
    "from IPython.display import clear_output\n",
    "import numpy as np\n",
    "import matplotlib.pyplot as plt\n",
    "from matplotlib.colors import ListedColormap, BoundaryNorm\n",
    "\n",
    "\n",
    "class world:\n",
    "    \"\"\"\n",
    "    A class to represent a grid-based world for pathfinding algorithms.\n",
    "\n",
    "    Attributes:\n",
    "        L (int): Number of columns in the grid.\n",
    "        H (int): Number of rows in the grid.\n",
    "        w (list of int): Grid representation where each tile is empty (0) or a wall (1).\n",
    "        costs (list of float): Cost of entering each tile.\n",
    "    \"\"\"\n",
    "\n",
    "    def __init__(self, L, H, P):\n",
    "        self.L = L \n",
    "        self.H = H\n",
    "        self.w = [0 for _ in range(L * H)]\n",
    "\n",
    "        # Set walls on the boundaries\n",
    "        for i in range(H):\n",
    "            self.w[i * L] = 1\n",
    "            self.w[i * L + L - 1] = 1\n",
    "\n",
    "        for j in range(L):\n",
    "            self.w[j] = 1\n",
    "            self.w[(H - 1) * L + j] = 1\n",
    "\n",
    "        # Randomly add internal walls\n",
    "        for i in range(H):\n",
    "            for j in range(L):\n",
    "                if (random.random() < P and\n",
    "                    not (i == 1 and j == 1) and\n",
    "                    not (i == H - 2 and j == L - 2)):\n",
    "                    self.w[i * L + j] = 1\n",
    "\n",
    "        # Initialize costs; walls have infinite cost, others have cost 1\n",
    "        self.costs = [1 if self.w[i] == 0 else float('inf') for i in range(L * H)]\n",
    "        \n",
    "        # Initialize the list to store high-cost regions\n",
    "        self.high_cost_regions = []\n",
    "\n",
    "    def set_costs_in_rectangle(self, x1, y1, x2, y2, min_cost=2, max_cost=5):\n",
    "        \"\"\"\n",
    "        Sets random costs greater than min_cost up to max_cost for tiles within the specified rectangle,\n",
    "        and records the high-cost region boundaries.\n",
    "\n",
    "        Parameters:\n",
    "            x1, y1 (int): Coordinates of one corner of the rectangle.\n",
    "            x2, y2 (int): Coordinates of the opposite corner.\n",
    "            min_cost (int): Minimum cost for tiles within the rectangle (default 2).\n",
    "            max_cost (int): Maximum cost for tiles within the rectangle (default 5).\n",
    "        \"\"\"\n",
    "        # Ensure coordinates are within bounds\n",
    "        x1, x2 = max(0, min(x1, self.L - 1)), max(0, min(x2, self.L - 1))\n",
    "        y1, y2 = max(0, min(y1, self.H - 1)), max(0, min(y2, self.H - 1))\n",
    "\n",
    "        # Get the rectangle boundaries\n",
    "        x_start, x_end = min(x1, x2), max(x1, x2)\n",
    "        y_start, y_end = min(y1, y2), max(y1, y2)\n",
    "\n",
    "        # Update tile costs\n",
    "        for i in range(y_start, y_end + 1):\n",
    "            for j in range(x_start, x_end + 1):\n",
    "                tile_index = i * self.L + j\n",
    "                if self.w[tile_index] == 0:\n",
    "                    self.costs[tile_index] = random.randint(min_cost, max_cost)\n",
    "        \n",
    "        # Record the high-cost region\n",
    "        self.high_cost_regions.append({\n",
    "            'x_start': x_start,\n",
    "            'x_end': x_end,\n",
    "            'y_start': y_start,\n",
    "            'y_end': y_end,\n",
    "            'min_cost': min_cost,\n",
    "            'max_cost': max_cost\n",
    "        })\n",
    "                \n",
    "    def display(self, path=[], display_costs=False):\n",
    "        \"\"\"\n",
    "        Note: Understanding this method is not required for the assignment as it has been implemented only for visualization purposes.\n",
    "        \n",
    "        Displays the grid world with optional path and costs overlay.\n",
    "\n",
    "        Parameters:\n",
    "            path (list of int): List of tile indices representing the path to overlay.\n",
    "            display_costs (bool): Whether to display the cost of each tile.\n",
    "        \"\"\"\n",
    "        # Initialize grid\n",
    "        grid = np.zeros((self.H, self.L))\n",
    "\n",
    "        for i in range(self.H):\n",
    "            for j in range(self.L):\n",
    "                tile_index = i * self.L + j\n",
    "                if self.w[tile_index] == 1:\n",
    "                    grid[i, j] = 0  # Wall\n",
    "                elif tile_index == self.L + 1:\n",
    "                    grid[i, j] = 1  # Start\n",
    "                elif tile_index == (self.H - 2) * self.L + (self.L - 2):\n",
    "                    grid[i, j] = 2  # Goal\n",
    "                elif tile_index in path:\n",
    "                    grid[i, j] = 3  # Path\n",
    "                else:\n",
    "                    # Assign cost indices: 4 for cost=1, 5 for cost=2, etc.\n",
    "                    cost = self.costs[tile_index]\n",
    "                    if cost <= 1:\n",
    "                        grid[i, j] = 4  # Cost=1\n",
    "                    elif cost == 2:\n",
    "                        grid[i, j] = 5  # Cost=2\n",
    "                    elif cost == 3:\n",
    "                        grid[i, j] = 6  # Cost=3\n",
    "                    elif cost == 4:\n",
    "                        grid[i, j] = 7  # Cost=4\n",
    "                    elif cost >= 5:\n",
    "                        grid[i, j] = 8  # Cost=5 or more\n",
    "\n",
    "        # Define colormap\n",
    "        cmap = ListedColormap([\n",
    "            'black',      # 0: Wall\n",
    "            'green',      # 1: Start\n",
    "            'blue',       # 2: Goal\n",
    "            'red',        # 3: Path\n",
    "            'white',      # 4: Cost=1\n",
    "            'lightgray',  # 5: Cost=2\n",
    "            'gray',       # 6: Cost=3\n",
    "            'darkgray',   # 7: Cost=4\n",
    "            'dimgray'     # 8: Cost=5 or more\n",
    "        ])\n",
    "\n",
    "        # Define normalization\n",
    "        bounds = np.arange(-0.5, 9.5, 1)  # From -0.5 to 8.5 to cover indices 0 to 8\n",
    "        norm = BoundaryNorm(bounds, cmap.N)\n",
    "\n",
    "        plt.figure(figsize=(6, 6))\n",
    "        plt.imshow(grid, cmap=cmap, norm=norm)\n",
    "        plt.axis('off')\n",
    "\n",
    "        # Optionally overlay cost values \n",
    "        if display_costs and self.H * self.L <= 1000: # Limit to small grids for readability\n",
    "            for i in range(self.H):\n",
    "                for j in range(self.L):\n",
    "                    tile_index = i * self.L + j\n",
    "                    if self.w[tile_index] != 1 and grid[i, j] >= 4 and tile_index not in path:\n",
    "                        cost = self.costs[tile_index]\n",
    "                        plt.text(j, i, f'{cost}', ha='center', va='center', fontsize=6, color='black')\n",
    "\n",
    "        plt.show()\n",
    "        \n",
    "\n",
    "    def successors(self, i):\n",
    "        \"\"\"\n",
    "        Returns a list of valid successors for a given tile index.\n",
    "        A successor is a tile that can be reached from the given tile by moving left, right, up, or down.\n",
    "        \n",
    "        Parameters:\n",
    "            i (int): The tile index for which to find successors.\n",
    "\n",
    "        Returns:\n",
    "            list of int: List of valid successor tile indices.\n",
    "        \"\"\"\n",
    "        if i < 0 or i >= self.L * self.H or self.w[i] == 1: # Check if i is out of bounds or a wall\n",
    "            return []\n",
    "        else:\n",
    "            potential_successors = [i - 1, i + 1, i - self.L, i + self.L] # Left, right, up, down\n",
    "            valid_successors = list(filter(lambda x: 0 <= x < self.L * self.H and self.w[x] != 1, potential_successors)) # Filter out of bounds and walls\n",
    "            return valid_successors"
   ]
  },
  {
   "cell_type": "markdown",
   "metadata": {},
   "source": [
    "We can create a new world instance which will be a 20x20 grid with a 20% chance of a cell being a wall. The start and end positions are fixed at the top-left and bottom-right corners, respectively."
   ]
  },
  {
   "cell_type": "code",
   "execution_count": 2,
   "metadata": {},
   "outputs": [],
   "source": [
    "# Create a world instance\n",
    "L, H, P = 20, 20, 0.2  # Grid size and wall probability\n",
    "w = world(L, H, P)\n",
    "\n",
    "# Define start and goal positions\n",
    "start = w.L + 1  # (1,1)\n",
    "goal = (w.H - 2) * w.L + (w.L - 2)  # (L-2, H-2)\n"
   ]
  },
  {
   "cell_type": "markdown",
   "metadata": {},
   "source": [
    "## Basic Pathfinding"
   ]
  },
  {
   "cell_type": "markdown",
   "metadata": {},
   "source": [
    "### Depth-First Search (DFS)"
   ]
  },
  {
   "cell_type": "markdown",
   "metadata": {},
   "source": [
    "Depth-First Search (DFS) is an algorithm used for traversing or searching tree or graph data structures. It starts at a selected node (often the root) and explores as far as possible along each branch before backtracking. This approach dives deep into each path before exploring alternative options, hence the name \"depth-first.\"\n",
    "\n",
    "In our case, the agent starts at the tile `(1, 1)` and explores the grid by moving to adjacent tiles. If it reaches a dead-end, it backtracks to the most recent decision point and explores other paths. The algorithm continues this process until it reaches the goal tile `(L - 2, H - 2)`."
   ]
  },
  {
   "cell_type": "code",
   "execution_count": 3,
   "metadata": {},
   "outputs": [],
   "source": [
    "def dfs(world, s0, t):\n",
    "    \"\"\"\n",
    "    Performs Depth-First Search (DFS) to find a path from the start tile to the target tile.\n",
    "\n",
    "    Parameters:\n",
    "        world (world): An instance of the `world` class representing the grid environment.\n",
    "        s0 (int): The index of the starting tile.\n",
    "        t (int): The index of the target tile.\n",
    "\n",
    "    Returns:\n",
    "        dict: A dictionary containing the search metrics, including:\n",
    "            - 'found' (bool): Indicates whether a path was found.\n",
    "            - 'path' (list of int): The list of tile indices representing the path from start to target.\n",
    "            - 'path_length' (int): The number of tiles in the path.\n",
    "            - 'cost' (float): The total cost of the path.\n",
    "            - 'visited_tiles' (int): The number of tiles visited during the search.\n",
    "    \"\"\"\n",
    "    result = False     # Result flag\n",
    "    path = []          # List to store the final path\n",
    "    stack = [s0]       # Stack to keep track of tiles to explore (Last-In, First-Out)\n",
    "    visited = [False] * (world.L * world.H)  # List to keep track of visited tiles\n",
    "    visited[s0] = True  \n",
    "    parent = {}        # Dictionary to keep track of each tile's parent\n",
    "    nb_visited = 0     # Counter to keep track of the number of visited tiles\n",
    "\n",
    "    while stack:\n",
    "        current = stack.pop()  # Get the last tile from the stack to explore\n",
    "        nb_visited += 1\n",
    "\n",
    "        # Reconstruct the current path from start to the current tile for visualization\n",
    "        current_path = []\n",
    "        temp = current\n",
    "        while temp != s0:\n",
    "            current_path.append(temp)\n",
    "            temp = parent.get(temp, s0)\n",
    "        current_path.append(s0)\n",
    "        current_path.reverse()\n",
    "\n",
    "        # Visualize the current path\n",
    "        clear_output(wait=True)       \n",
    "        world.display(current_path)    # Display the grid with the current path highlighted\n",
    "\n",
    "        # Check if the current tile is the target\n",
    "        if current == t:\n",
    "            result = True              \n",
    "            path = current_path   \n",
    "            break\n",
    "\n",
    "        # Retrieve all valid successors (adjacent tiles) of the current tile and add them to the stack\n",
    "        for successor in world.successors(current):\n",
    "            if not visited[successor]:\n",
    "                visited[successor] = True     \n",
    "                parent[successor] = current\n",
    "                stack.append(successor)        \n",
    "\n",
    "    # Display the final path after the search is complete\n",
    "    clear_output(wait=True)\n",
    "    world.display(path)  \n",
    "\n",
    "    # Calculate the total cost if a path was found\n",
    "    if result:\n",
    "        total_cost = sum(world.costs[tile] for tile in path)\n",
    "    else:\n",
    "        total_cost = float('inf')\n",
    "\n",
    "    # Compile metrics into a dictionary for analysis\n",
    "    metrics = {\n",
    "        'found': result,\n",
    "        'path': path,\n",
    "        'path_length': len(path) if result else 0,\n",
    "        'cost': total_cost,\n",
    "        'visited_tiles': nb_visited\n",
    "    }\n",
    "\n",
    "    return metrics"
   ]
  },
  {
   "cell_type": "code",
   "execution_count": 4,
   "metadata": {},
   "outputs": [
    {
     "data": {
      "image/png": "[encoded data removed]",
      "text/plain": [
       "<Figure size 600x600 with 1 Axes>"
      ]
     },
     "metadata": {},
     "output_type": "display_data"
    }
   ],
   "source": [
    "# Run DFS\n",
    "dfs_metrics = dfs(w, start, goal)"
   ]
  },
  {
   "cell_type": "markdown",
   "metadata": {},
   "source": [
    "### Breadth-First Search (BFS)"
   ]
  },
  {
   "cell_type": "markdown",
   "metadata": {},
   "source": [
    "Breadth-First Search (BFS) is an algorithm used for traversing or searching tree or graph data structures. It explores all neighboring nodes at the current depth before moving on to nodes at the next depth level. BFS uses a queue data structure to keep track of the next nodes to visit.\n",
    "\n",
    "In our grid environment, BFS starts at tile `(1, 1)` and explores all reachable tiles level by level. This ensures that the shortest path to the goal tile `(L - 2, H - 2)` is found, as BFS always finds the shortest path in an unweighted graph when each move has the same cost."
   ]
  },
  {
   "cell_type": "markdown",
   "metadata": {},
   "source": [
    "The implementation of BFS is similar to DFS, but it uses a queue instead of a stack to reproduce the breadth-first traversal behavior."
   ]
  },
  {
   "cell_type": "code",
   "execution_count": 5,
   "metadata": {},
   "outputs": [],
   "source": [
    "def bfs(world, s0, t):\n",
    "    \"\"\"\n",
    "    Performs Breadth-First Search (BFS) to find the shortest path from the start tile to the target tile.\n",
    "\n",
    "    Parameters:\n",
    "        world (world): An instance of the `world` class representing the grid environment.\n",
    "        s0 (int): The index of the starting tile.\n",
    "        t (int): The index of the target tile.\n",
    "\n",
    "    Returns:\n",
    "        dict: A dictionary containing the search metrics, including:\n",
    "            - 'found' (bool): Indicates whether a path was found.\n",
    "            - 'path' (list of int): The list of tile indices representing the path from start to target.\n",
    "            - 'path_length' (int): The number of tiles in the path.\n",
    "            - 'cost' (float): The total cost of the path.\n",
    "            - 'visited_tiles' (int): The number of tiles visited during the search.\n",
    "    \"\"\"\n",
    "    from collections import deque\n",
    "\n",
    "    result = False      # Result flag\n",
    "    path = []           # List to store the final path\n",
    "    queue = deque([s0]) # Queue for BFS (First-In, First-Out)\n",
    "    visited = [False] * (world.L * world.H)  # List to keep track of visited tiles\n",
    "    visited[s0] = True\n",
    "    parent = {}         # Dictionary to keep track of each tile's parent\n",
    "    nb_visited = 0      # Counter for visited tiles\n",
    "\n",
    "    while queue:\n",
    "        current = queue.popleft()  # Dequeue the first tile\n",
    "        nb_visited += 1\n",
    "\n",
    "        # Reconstruct the current path from start to the current tile for visualization\n",
    "        current_path = []\n",
    "        temp = current\n",
    "        while temp != s0:\n",
    "            current_path.append(temp)\n",
    "            temp = parent.get(temp, s0)\n",
    "        current_path.append(s0)\n",
    "        current_path.reverse()\n",
    "\n",
    "        # Visualize the current path\n",
    "        clear_output(wait=True)\n",
    "        world.display(current_path)\n",
    "\n",
    "        # Check if the current tile is the target\n",
    "        if current == t:\n",
    "            result = True\n",
    "            path = current_path\n",
    "            break\n",
    "\n",
    "        # Enqueue valid successors\n",
    "        for successor in world.successors(current):\n",
    "            if not visited[successor]:\n",
    "                visited[successor] = True\n",
    "                parent[successor] = current\n",
    "                queue.append(successor)\n",
    "\n",
    "    # Display the final path after the search is complete\n",
    "    clear_output(wait=True)\n",
    "    world.display(path)\n",
    "\n",
    "    # Calculate the total cost if a path was found\n",
    "    if result:\n",
    "        total_cost = sum(world.costs[tile] for tile in path)\n",
    "    else:\n",
    "        total_cost = float('inf')\n",
    "\n",
    "    # Compile metrics into a dictionary\n",
    "    metrics = {\n",
    "        'found': result,\n",
    "        'path': path,\n",
    "        'path_length': len(path) if result else 0,\n",
    "        'cost': total_cost,\n",
    "        'visited_tiles': nb_visited\n",
    "    }\n",
    "\n",
    "    return metrics"
   ]
  },
  {
   "cell_type": "code",
   "execution_count": 6,
   "metadata": {},
   "outputs": [
    {
     "data": {
      "image/png": "[encoded data removed]",
      "text/plain": [
       "<Figure size 600x600 with 1 Axes>"
      ]
     },
     "metadata": {},
     "output_type": "display_data"
    }
   ],
   "source": [
    "# Run BFS\n",
    "bfs_metrics = bfs(w, start, goal)"
   ]
  },
  {
   "cell_type": "markdown",
   "metadata": {},
   "source": [
    "### Analysis of DFS and BFS"
   ]
  },
  {
   "cell_type": "markdown",
   "metadata": {},
   "source": [
    "After testing both DFS and BFS on different grid environments, we can make the following observations:\n",
    "\n",
    "- **Completeness**: Both DFS and BFS are complete algorithms, meaning they will find a solution if one exists.\n",
    "- **Optimality**: BFS is optimal when all moves have the same cost, as it explores nodes level by level. DFS, on the other hand, is not guaranteed to find the shortest path.\n",
    "- **Space Complexity**: BFS has a higher space complexity than DFS due to the need to store all nodes at the current level. This can be a limiting factor in memory-constrained environments.\n",
    "- **Time Complexity**: In the worst-case scenario, both DFS and BFS have a time complexity of `O(b^d)`, where `b` is the branching factor (the average number of children per node) and `d` is the depth of the solution. However, the actual time taken can vary based on the structure of the graph and the specific path taken.\n",
    "\n",
    "Overall, BFS is preferred when the goal is to find the shortest path in an unweighted graph, while DFS can be useful in certain scenarios where memory constraints are a concern."
   ]
  },
  {
   "cell_type": "markdown",
   "metadata": {},
   "source": [
    "## Optimal Pathfinding"
   ]
  },
  {
   "cell_type": "markdown",
   "metadata": {},
   "source": [
    "Now we want to add a positive cost to each tile, representing the distance or effort required to move from one tile to another. The agent's goal is to find the path with the lowest total cost from the start to the goal. This added cost factor is important in real-world scenarios where different paths may have different costs associated with them (e.g., for determining the fastest route on a road network).\n",
    "\n",
    "This additional cost factor introduces a new dimension to pathfinding, as the agent must now consider both the distance to the goal and the cost of moving through each tile. This will allow more sophisticated algorithms to find the optimal path based on the total cost rather than just the number of moves.\n",
    "\n",
    "In our case, we will assign a cost of `1` to empty tiles except for a rectangular region defined by the coordinates `(L // 3, 0)` and `(2L // 3, H - 1)`, where the cost is a constant `c > 1`. This region represents a \"difficult terrain\" that the agent should avoid if possible."
   ]
  },
  {
   "cell_type": "code",
   "execution_count": 7,
   "metadata": {},
   "outputs": [],
   "source": [
    "# Set costs in a specific rectangle\n",
    "x1, y1 = (w.L // 3), 0  # First corner of the rectangle\n",
    "x2, y2 = 2 * (w.L // 3), w.H - 1  # Opposite corner of the rectangle\n",
    "min_cost = 2\n",
    "max_cost = 5\n",
    "w.set_costs_in_rectangle(x1, y1, x2, y2, min_cost, max_cost)"
   ]
  },
  {
   "cell_type": "markdown",
   "metadata": {},
   "source": [
    "### Dijkstra's Algorithm"
   ]
  },
  {
   "cell_type": "markdown",
   "metadata": {},
   "source": [
    "Dijkstra's algorithm is a pathfinding algorithm used to find the shortest path between nodes in a weighted graph. Unlike DFS and BFS, which do not consider varying movement costs between nodes, Dijkstra's algorithm accounts for the cost of moving from one node to another, allowing it to find the least expensive path."
   ]
  },
  {
   "cell_type": "markdown",
   "metadata": {},
   "source": [
    "Here's how it works:\n",
    "\n",
    "1. **Initialization**: Start at the initial node (e.g., `(1, 1)`) and assign a tentative distance (total cost) of zero to it. Set the tentative distance of all other nodes to infinity.\n",
    "2. **Visit Nodes**: Select the unvisited node with the smallest tentative distance. For the initial step, this is the starting node.\n",
    "3. **Update Neighbors**: For each unvisited neighbor of the current node, calculate the tentative distance through the current node. If this distance is less than their current tentative distance, update it.\n",
    "4. **Mark Visited**: Once all neighbors are considered, mark the current node as visited. A visited node will not be checked again.\n",
    "5. **Repeat**: Continue steps 2–4 until the target node `(L - 2, H - 2)` is marked visited or all reachable nodes have been visited.\n",
    "6. **Reconstruct Path**: Backtrack from the target node to the start node using the recorded paths to reconstruct the shortest path."
   ]
  },
  {
   "cell_type": "code",
   "execution_count": 8,
   "metadata": {},
   "outputs": [],
   "source": [
    "def dijkstra(world, s0, t):\n",
    "    \"\"\"\n",
    "    Performs Dijkstra's Algorithm to find the shortest path from the start tile to the target tile.\n",
    "\n",
    "    Parameters:\n",
    "        world (world): An instance of the `world` class representing the grid environment.\n",
    "        s0 (int): The index of the starting tile.\n",
    "        t (int): The index of the target tile.\n",
    "\n",
    "    Returns:\n",
    "        dict: A dictionary containing the search metrics, including:\n",
    "            - 'found' (bool): Indicates whether a path was found.\n",
    "            - 'path' (list of int): The list of tile indices representing the path from start to target.\n",
    "            - 'path_length' (int): The number of tiles in the path.\n",
    "            - 'cost' (float): The total cost of the path.\n",
    "            - 'visited_tiles' (int): The number of tiles visited during the search.\n",
    "    \"\"\"\n",
    "    import heapq\n",
    "\n",
    "    result = False                                   # Result flag\n",
    "    path = []                                        # List to store the final path\n",
    "    distance = [float('inf')] * (world.L * world.H)  # Distance from start to each tile\n",
    "    visited = [False] * (world.L * world.H)          # Visited tiles\n",
    "    parent = {}                                      # Parent tiles to reconstruct the path\n",
    "    nb_visited = 0                                   # Counter for visited tiles\n",
    "\n",
    "    distance[s0] = 0\n",
    "    heap = [(0, s0)]  # Min-heap priority queue (distance, tile_index)\n",
    "\n",
    "    while heap:\n",
    "        current_dist, current = heapq.heappop(heap)\n",
    "        if visited[current]:\n",
    "            continue\n",
    "        visited[current] = True\n",
    "        nb_visited += 1\n",
    "\n",
    "        # Reconstruct the current path for visualization\n",
    "        current_path = []\n",
    "        temp = current\n",
    "        while temp != s0:\n",
    "            current_path.append(temp)\n",
    "            temp = parent.get(temp, s0)\n",
    "        current_path.append(s0)\n",
    "        current_path.reverse()\n",
    "\n",
    "        # Visualize the current path\n",
    "        clear_output(wait=True)\n",
    "        world.display(current_path)\n",
    "\n",
    "        # Check if the current tile is the target\n",
    "        if current == t:\n",
    "            result = True\n",
    "            path = current_path\n",
    "            break\n",
    "\n",
    "        # Update distances to successors\n",
    "        for successor in world.successors(current):\n",
    "            if not visited[successor]:\n",
    "                new_dist = distance[current] + world.costs[successor]\n",
    "                if new_dist < distance[successor]:\n",
    "                    distance[successor] = new_dist\n",
    "                    parent[successor] = current\n",
    "                    heapq.heappush(heap, (new_dist, successor))\n",
    "\n",
    "    # Display the final path\n",
    "    clear_output(wait=True)\n",
    "    world.display(path, display_costs=True)\n",
    "\n",
    "    # Compile metrics into a dictionary\n",
    "    metrics = {\n",
    "        'found': result,\n",
    "        'path': path,\n",
    "        'path_length': len(path) if result else 0,\n",
    "        'cost': distance[t] if result else float('inf'),\n",
    "        'visited_tiles': nb_visited\n",
    "    }\n",
    "\n",
    "    # Display metrics\n",
    "    print(f\"Path Found: {metrics['found']}\")\n",
    "    if metrics['found']:\n",
    "        print(f\"Path Length: {metrics['path_length']}\")\n",
    "        print(f\"Total Cost: {metrics['cost']}\")\n",
    "    print(f\"Number of Visited Tiles: {metrics['visited_tiles']}\")\n",
    "    if metrics['found']:\n",
    "        print(f\"Path: {metrics['path']}\")\n",
    "\n",
    "    return metrics"
   ]
  },
  {
   "cell_type": "code",
   "execution_count": 21,
   "metadata": {},
   "outputs": [
    {
     "data": {
      "image/png": "[encoded data removed]",
      "text/plain": [
       "<Figure size 600x600 with 1 Axes>"
      ]
     },
     "metadata": {},
     "output_type": "display_data"
    },
    {
     "name": "stdout",
     "output_type": "stream",
     "text": [
      "Path Found: True\n",
      "Path Length: 35\n",
      "Total Cost: 54\n",
      "Number of Visited Tiles: 261\n",
      "Path: [21, 41, 42, 43, 44, 45, 65, 66, 67, 68, 69, 70, 71, 91, 92, 93, 94, 114, 115, 116, 136, 156, 176, 177, 197, 217, 237, 257, 277, 278, 298, 318, 338, 358, 378]\n"
     ]
    }
   ],
   "source": [
    "# Run Dijkstra's algorithm\n",
    "dijkstra_metrics = dijkstra(w, start, goal)"
   ]
  },
  {
   "cell_type": "markdown",
   "metadata": {},
   "source": [
    "In order to see the effect of taking into account the cost of moving between tiles, we will compare the results of Dijkstra's algorithm with the previous algorithms (DFS and BFS) on the same grid environment. We expect Dijkstra's algorithm to find the optimal path based on the total cost, which may differ from the shortest path in terms of the number of moves.\n",
    "\n",
    "Let's rerun DFS and BFS on the same grid environment but with the added cost factor, and then compare the results with Dijkstra's algorithm."
   ]
  },
  {
   "cell_type": "code",
   "execution_count": 10,
   "metadata": {},
   "outputs": [
    {
     "data": {
      "image/png": "[encoded data removed]",
      "text/plain": [
       "<Figure size 600x600 with 1 Axes>"
      ]
     },
     "metadata": {},
     "output_type": "display_data"
    }
   ],
   "source": [
    "dfs_cost_metrics = dfs(w, start, goal)\n",
    "bfs_cost_metrics = bfs(w, start, goal)"
   ]
  },
  {
   "cell_type": "code",
   "execution_count": 11,
   "metadata": {},
   "outputs": [
    {
     "name": "stdout",
     "output_type": "stream",
     "text": [
      "DFS Metrics:\n",
      "Path Length: 63\n",
      "Total Cost: 111\n",
      "Visited Tiles: 178\n",
      "\n",
      "BFS Metrics:\n",
      "Path Length: 35\n",
      "Total Cost: 55\n",
      "Visited Tiles: 263\n",
      "\n",
      "Dijkstra's Metrics:\n",
      "Path Length: 35\n",
      "Total Cost: 54\n",
      "Visited Tiles: 261\n"
     ]
    }
   ],
   "source": [
    "# Display path length, total cost, and number of visited tiles for each algorithm\n",
    "print(\"DFS Metrics:\")\n",
    "print(f\"Path Length: {dfs_cost_metrics['path_length']}\")\n",
    "print(f\"Total Cost: {dfs_cost_metrics['cost']}\")\n",
    "print(f\"Visited Tiles: {dfs_cost_metrics['visited_tiles']}\")\n",
    "print(\"\\nBFS Metrics:\")\n",
    "print(f\"Path Length: {bfs_cost_metrics['path_length']}\")\n",
    "print(f\"Total Cost: {bfs_cost_metrics['cost']}\")\n",
    "print(f\"Visited Tiles: {bfs_cost_metrics['visited_tiles']}\")\n",
    "print(\"\\nDijkstra's Metrics:\")\n",
    "print(f\"Path Length: {dijkstra_metrics['path_length']}\")\n",
    "print(f\"Total Cost: {dijkstra_metrics['cost']}\")\n",
    "print(f\"Visited Tiles: {dijkstra_metrics['visited_tiles']}\")"
   ]
  },
  {
   "cell_type": "markdown",
   "metadata": {},
   "source": [
    "As expected, even if the path length can be the same (or very similar), the total cost of the path found by Dijkstra's algorithm is lower than the one found by BFS or DFS. This proves the optimality of Dijkstra's algorithm in finding the path with the lowest total cost and therefore adapting to a real-world scenario where different paths have different costs associated with them."
   ]
  },
  {
   "cell_type": "markdown",
   "metadata": {},
   "source": [
    "### A* Algorithm"
   ]
  },
  {
   "cell_type": "markdown",
   "metadata": {},
   "source": [
    "#### Algorithm Overview"
   ]
  },
  {
   "cell_type": "markdown",
   "metadata": {},
   "source": [
    "Although **Dijkstra's algorithm** is effective at finding the optimal path based on total cost, it can be computationally expensive when exploring large graphs due to its exhaustive search approach. Dijkstra's algorithm explores all possible paths from the start node to the goal node, even those unlikely to be part of the optimal path, such as paths moving away from the goal.\n",
    "\n",
    "The **A\\* algorithm** is an extension of Dijkstra's algorithm that uses a heuristic function to guide the search more efficiently toward the goal node. A heuristic estimates the cost of the cheapest path from the current node to the goal node. \n",
    "\n",
    "In the A\\* algorithm, each node is assigned a cost `f(n) = g(n) + h(n)`, where:\n",
    "- `g(n)` is the actual cost of the path from the start node to node `n`.\n",
    "- `h(n)` is the heuristic estimate of the cost from node `n` to the goal node.\n",
    "\n",
    "The A\\* algorithm selects the node with the lowest `f(n)` value for exploration, prioritizing nodes that are closer to the goal. "
   ]
  },
  {
   "cell_type": "markdown",
   "metadata": {},
   "source": [
    "#### Heuristic Function in a Grid Environment"
   ]
  },
  {
   "cell_type": "markdown",
   "metadata": {},
   "source": [
    "In our case, we will use the **Manhattan distance** (also known as the L1 norm) as the heuristic, which calculates the distance between two points by summing the absolute differences of their coordinates (ignoring obstacles). For a 20×20 grid with the start at `(1, 1)` and the goal at `(18, 18)`, the Manhattan distance is:\n",
    "\n",
    "$$\n",
    "h = |18 - 1| + |18 - 1| = 34\n",
    "$$\n",
    "\n",
    "Let's implement the A\\* algorithm with this heuristic and compare its performance with Dijkstra's algorithm on the same grid environment."
   ]
  },
  {
   "cell_type": "code",
   "execution_count": 17,
   "metadata": {},
   "outputs": [],
   "source": [
    "def astar(world, s0, t):\n",
    "    \"\"\"\n",
    "    Performs the A* Search Algorithm to find the shortest path from the start tile to the goal tile.\n",
    "\n",
    "    Parameters:\n",
    "        world (world): An instance of the `world` class representing the grid environment.\n",
    "        s0 (int): The index of the starting tile.\n",
    "        t (int): The index of the target (goal) tile.\n",
    "\n",
    "    Returns:\n",
    "        dict: A dictionary containing the search metrics, including:\n",
    "            - 'found' (bool): Indicates whether a path was found.\n",
    "            - 'path' (list of int): The list of tile indices representing the path from start to goal.\n",
    "            - 'path_length' (int): The number of tiles in the path.\n",
    "            - 'cost': The total cost of the path.\n",
    "            - 'visited_tiles': The number of tiles visited during the search.\n",
    "    \"\"\"\n",
    "    import heapq\n",
    "\n",
    "    # Initialize open and closed sets\n",
    "    open_set = [] # The open set contains the nodes to be evaluated, with their f_score\n",
    "    heapq.heappush(open_set, (0, s0))\n",
    "    closed_set = set() # The closed set contains the nodes already evaluated\n",
    "\n",
    "    # Initialize g_score and f_score dictionaries for each node with infinity as default value\n",
    "    g_score = {i: float('inf') for i in range(world.L * world.H)} \n",
    "    g_score[s0] = 0\n",
    "\n",
    "    f_score = {i: float('inf') for i in range(world.L * world.H)}\n",
    "    f_score[s0] = heuristic(s0, t, world)\n",
    "\n",
    "    # Parent dictionary to reconstruct the path\n",
    "    parent = {}\n",
    "\n",
    "    nb_visited = 0  # Counter for visited tiles\n",
    "\n",
    "    while open_set:\n",
    "        # Pop the node with the lowest f_score\n",
    "        current_f_score, current = heapq.heappop(open_set)\n",
    "        nb_visited += 1\n",
    "\n",
    "        # Visualize the current path\n",
    "        current_path = []\n",
    "        temp = current\n",
    "        while temp in parent:\n",
    "            current_path.append(temp)\n",
    "            temp = parent[temp]\n",
    "        current_path.append(s0)\n",
    "        current_path.reverse()\n",
    "\n",
    "        clear_output(wait=True)\n",
    "        world.display(current_path)\n",
    "\n",
    "        # Check if we have reached the goal\n",
    "        if current == t:\n",
    "            # Reconstruct the final path\n",
    "            path = current_path\n",
    "\n",
    "            # Calculate total cost\n",
    "            total_cost = g_score[t]\n",
    "\n",
    "            # Compile metrics into a dictionary\n",
    "            metrics = {\n",
    "                'found': True,\n",
    "                'path': path,\n",
    "                'path_length': len(path),\n",
    "                'cost': total_cost,\n",
    "                'visited_tiles': nb_visited\n",
    "            }\n",
    "\n",
    "            # Display the final path\n",
    "            clear_output(wait=True)\n",
    "            world.display(path, display_costs=True)\n",
    "            \n",
    "            # Display metrics\n",
    "            print(f\"Path Found: {metrics['found']}\")\n",
    "            if metrics['found']:\n",
    "                print(f\"Path Length: {metrics['path_length']}\")\n",
    "                print(f\"Total Cost: {metrics['cost']}\")\n",
    "            print(f\"Number of Visited Tiles: {metrics['visited_tiles']}\")\n",
    "            if metrics['found']:\n",
    "                print(f\"Path: {metrics['path']}\")\n",
    "\n",
    "            return metrics\n",
    "\n",
    "        closed_set.add(current)\n",
    "\n",
    "        # Examine neighbors\n",
    "        for neighbor in world.successors(current):\n",
    "            if neighbor in closed_set:\n",
    "                continue  # Ignore the neighbor which is already evaluated\n",
    "\n",
    "\n",
    "            tentative_g_score = g_score[current] + world.costs[neighbor]\n",
    "\n",
    "            # If the path to get to the neighbor is shorter than a previous one, update the parent and scores\n",
    "            if tentative_g_score < g_score[neighbor]:\n",
    "                parent[neighbor] = current\n",
    "                g_score[neighbor] = tentative_g_score\n",
    "                f_score[neighbor] = tentative_g_score + heuristic(neighbor, t, world)\n",
    "\n",
    "                # If neighbor is not in open_set, add it\n",
    "                if not any(neighbor == item[1] for item in open_set):\n",
    "                    heapq.heappush(open_set, (f_score[neighbor], neighbor))\n",
    "\n",
    "    # If open_set is empty but goal was never reached\n",
    "    metrics = {\n",
    "        'found': False,\n",
    "        'path': [],\n",
    "        'path_length': 0,\n",
    "        'cost': float('inf'),\n",
    "        'visited_tiles': nb_visited\n",
    "    }\n",
    "\n",
    "    # Display that no path was found\n",
    "    clear_output(wait=True)\n",
    "    world.display(display_costs=True)\n",
    "    print(\"No path found.\")\n",
    "\n",
    "    return metrics\n",
    "\n",
    "def heuristic(current, goal, world):\n",
    "    \"\"\"\n",
    "    Calculates an admissible heuristic using the Manhattan distance.\n",
    "\n",
    "    Parameters:\n",
    "        world (world): The grid environment.\n",
    "        current (int): The index of the current tile.\n",
    "        goal (int): The index of the goal tile.\n",
    "\n",
    "    Returns:\n",
    "        float: The estimated minimal cost from current to goal.\n",
    "    \"\"\"\n",
    "    # Convert tile indices to (x, y) coordinates\n",
    "    L = world.L\n",
    "    x1, y1 = current % L, current // L \n",
    "    x2, y2 = goal % L, goal // L\n",
    "\n",
    "    # Minimal possible movement cost\n",
    "    min_cost = 1\n",
    "\n",
    "    # Calculate Manhattan distance\n",
    "    manhattan_distance = abs(x1 - x2) + abs(y1 - y2)\n",
    "\n",
    "    # Estimated minimal cost\n",
    "    estimated_cost = min_cost * manhattan_distance\n",
    "\n",
    "    return estimated_cost\n"
   ]
  },
  {
   "cell_type": "code",
   "execution_count": 20,
   "metadata": {},
   "outputs": [
    {
     "data": {
      "image/png": "[encoded data removed]",
      "text/plain": [
       "<Figure size 600x600 with 1 Axes>"
      ]
     },
     "metadata": {},
     "output_type": "display_data"
    },
    {
     "name": "stdout",
     "output_type": "stream",
     "text": [
      "Path Found: True\n",
      "Path Length: 35\n",
      "Total Cost: 54\n",
      "Number of Visited Tiles: 230\n",
      "Path: [21, 41, 42, 43, 44, 45, 65, 66, 67, 68, 69, 70, 71, 91, 92, 93, 94, 114, 115, 116, 136, 156, 176, 177, 197, 217, 237, 257, 277, 278, 298, 318, 338, 358, 378]\n"
     ]
    }
   ],
   "source": [
    "# Run A* search\n",
    "astar_metrics = astar(w, start, goal)"
   ]
  },
  {
   "cell_type": "markdown",
   "metadata": {},
   "source": [
    "The A\\* algorithm is a significant improvement over Dijkstra's algorithm in terms of efficiency. By visualizing the search process, we can see how A\\* quickly converges to the optimal path by prioritizing nodes closer to the goal. This behavior is especially beneficial in large graphs or environments with varying movement costs, where exploring all possible paths exhaustively can be computationally expensive."
   ]
  },
  {
   "cell_type": "markdown",
   "metadata": {},
   "source": [
    "A worthwhile approach would be to modify the heuristic function to better align with the environment's specific characteristics, such as the presence of walls or challenging terrain. This adaptation can enhance the efficiency of the A* algorithm by providing more accurate cost estimates for reaching the goal."
   ]
  }
 ],
 "metadata": {
  "kernelspec": {
   "display_name": "Python 3",
   "language": "python",
   "name": "python3"
  },
  "language_info": {
   "codemirror_mode": {
    "name": "ipython",
    "version": 3
   },
   "file_extension": ".py",
   "mimetype": "text/x-python",
   "name": "python",
   "nbconvert_exporter": "python",
   "pygments_lexer": "ipython3",
   "version": "3.12.1"
  }
 },
 "nbformat": 4,
 "nbformat_minor": 2
}
